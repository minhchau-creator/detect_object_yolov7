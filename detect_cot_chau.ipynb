{
  "cells": [
    {
      "cell_type": "markdown",
      "metadata": {
        "id": "view-in-github",
        "colab_type": "text"
      },
      "source": [
        "<a href=\"https://colab.research.google.com/github/minhchau-creator/detect_object_yolov7/blob/main/detect_cot_chau.ipynb\" target=\"_parent\"><img src=\"https://colab.research.google.com/assets/colab-badge.svg\" alt=\"Open In Colab\"/></a>"
      ]
    },
    {
      "cell_type": "code",
      "execution_count": null,
      "metadata": {
        "id": "JE-_Nc7Y0jCy"
      },
      "outputs": [],
      "source": [
        "!git clone https://github.com/WongKinYiu/yolov7.git\n",
        "!pip install -r /content/yolov7/requirements.txt\n",
        "!wget https://github.com/WongKinYiu/yolov7/releases/download/v0.1/yolov7.pt"
      ]
    },
    {
      "cell_type": "code",
      "execution_count": null,
      "metadata": {
        "id": "wfUUCB_31ARD"
      },
      "outputs": [],
      "source": [
        "#unrar \n",
        "!unrar x \"/content/train_images.rar\" \"/content/yolov7\""
      ]
    },
    {
      "cell_type": "code",
      "execution_count": null,
      "metadata": {
        "id": "VijQ5j621ZDS"
      },
      "outputs": [],
      "source": [
        "!nvidia-smi"
      ]
    },
    {
      "cell_type": "code",
      "execution_count": null,
      "metadata": {
        "id": "qxP2Fc9_1dIV"
      },
      "outputs": [],
      "source": [
        "#train modelmodel\n",
        "!python /content/yolov7/train.py --batch 8 --epochs 160 --cfg \"/content/yolov7/cfg/training/yolov7.yaml\" --data \"/content/yolov7/data/coco.yaml\" --weights \"/content/yolov7/pretrain/yolov7.pt\" --img 640 "
      ]
    },
    {
      "cell_type": "code",
      "execution_count": null,
      "metadata": {
        "id": "ZmEbVwCaISQ2"
      },
      "outputs": [],
      "source": [
        "\n",
        "!python /content/yolov7/detect.py --weights /content/runs/train/exp/weights/best.pt --source /content/1.jpg"
      ]
    }
  ],
  "metadata": {
    "accelerator": "GPU",
    "colab": {
      "provenance": [],
      "include_colab_link": true
    },
    "gpuClass": "standard",
    "kernelspec": {
      "display_name": "Python 3",
      "name": "python3"
    }
  },
  "nbformat": 4,
  "nbformat_minor": 0
}